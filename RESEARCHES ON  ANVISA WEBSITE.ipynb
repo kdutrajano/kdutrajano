{
 "cells": [
  {
   "cell_type": "markdown",
   "id": "cdd3c7be",
   "metadata": {},
   "source": [
    "## RESEARCHES FOR MEDICAL DEVICES ON ANVISA WEBSITE"
   ]
  },
  {
   "cell_type": "markdown",
   "id": "6d515372",
   "metadata": {},
   "source": [
    "DEVELOPED BY:\n",
    "##### CARLOS TRAJANO  >>  DATA SCIENTIST   -   PROJECT | PRODUCT | PROCESS ENGINEER   -   BUSINESS MANAGEMENT MBA"
   ]
  },
  {
   "cell_type": "markdown",
   "id": "55300815",
   "metadata": {},
   "source": [
    "MEDICAL DEVICES SPECIALIST"
   ]
  },
  {
   "cell_type": "code",
   "execution_count": 1,
   "id": "c1d8e179",
   "metadata": {
    "code_folding": [
     0
    ]
   },
   "outputs": [],
   "source": [
    "#FRAMEWORKS REQUIRED\n",
    "\n",
    "from bs4 import BeautifulSoup\n",
    "import requests\n",
    "from requests import get\n",
    "import warnings\n",
    "warnings.filterwarnings(\"ignore\")\n",
    "import time\n",
    "from time import sleep\n",
    "# webdriver function imported from selenium library\n",
    "from selenium import webdriver\n",
    "from selenium.common import exceptions\n",
    "import pandas as pd\n",
    "import sqlite3\n",
    "import glob #Find all the pathnames matching a specified pattern according to the rules\n",
    "import os #opening files as CMD command prompt\n",
    "from datetime import date\n",
    "from datetime import datetime\n",
    "from typing import List, Dict\n",
    "import re"
   ]
  },
  {
   "cell_type": "code",
   "execution_count": 2,
   "id": "f3f02dba",
   "metadata": {
    "code_folding": [
     0
    ]
   },
   "outputs": [],
   "source": [
    "# SELECT THE DIRECTORY PATH AND FILE\n",
    "path = 'D:\\PYTHON PROJECTS\\AULAS DH\\PESQUISA ANVISA PRODUTO'\n",
    "\n",
    "FILE = 'TA_PRODUTO_SAUDE_SITE.csv'"
   ]
  },
  {
   "cell_type": "code",
   "execution_count": 3,
   "id": "06f209ff",
   "metadata": {
    "code_folding": [
     0
    ]
   },
   "outputs": [],
   "source": [
    "# CSV FILE\n",
    "\n",
    "MD_SEARCH = pd.read_csv(\n",
    "    path + '\\\\' + FILE, # FILE SELECTED\n",
    "    engine = 'c',\n",
    "    encoding = 'ANSI', # ENCODE PATTERN FROM FILE \n",
    "    sep= ';',\n",
    "    )"
   ]
  },
  {
   "cell_type": "code",
   "execution_count": 4,
   "id": "490969bb",
   "metadata": {
    "code_folding": [
     0
    ]
   },
   "outputs": [],
   "source": [
    "# OPEN CSV FILE IN SQL \n",
    "\n",
    "db_loading = sqlite3.connect(f'{FILE}.db') # CONNECT WITH SQL AND OPEN THE DB FILE\n",
    "\n",
    "MD_SEARCH.to_sql(\n",
    "    name = 'MD', #TABLE NAME\n",
    "    index = False, # INDEX NOT SAVED\n",
    "    if_exists = 'replace', # WHETHER THE SAME FILE NAME EXISTS, IT MUST BE REPLACED BY THE NEW FILE\n",
    "    con = db_loading # DATABASE CREATED (CONNECTERD BY)\n",
    ")"
   ]
  },
  {
   "cell_type": "code",
   "execution_count": 8,
   "id": "bede4706",
   "metadata": {
    "code_folding": []
   },
   "outputs": [
    {
     "name": "stdout",
     "output_type": "stream",
     "text": [
      "WERE FOUND 94242 REGISTERS IN THE LAST UPADATE, ON 2021-07-10 00:00:00\n"
     ]
    },
    {
     "data": {
      "text/html": [
       "<div>\n",
       "<style scoped>\n",
       "    .dataframe tbody tr th:only-of-type {\n",
       "        vertical-align: middle;\n",
       "    }\n",
       "\n",
       "    .dataframe tbody tr th {\n",
       "        vertical-align: top;\n",
       "    }\n",
       "\n",
       "    .dataframe thead th {\n",
       "        text-align: right;\n",
       "    }\n",
       "</style>\n",
       "<table border=\"1\" class=\"dataframe\">\n",
       "  <thead>\n",
       "    <tr style=\"text-align: right;\">\n",
       "      <th></th>\n",
       "      <th>REGISTRO</th>\n",
       "      <th>NOME_TECNICO</th>\n",
       "      <th>NOME_COMERCIAL</th>\n",
       "      <th>CLASSE</th>\n",
       "      <th>CNPJ</th>\n",
       "      <th>DETENTOR</th>\n",
       "      <th>NOME_FABRICANTE</th>\n",
       "      <th>PAIS_FABRIC</th>\n",
       "      <th>PROCESSO</th>\n",
       "      <th>DATA_PUBLIC</th>\n",
       "      <th>VALID_REGISTRO</th>\n",
       "      <th>DATA_AT</th>\n",
       "    </tr>\n",
       "  </thead>\n",
       "  <tbody>\n",
       "    <tr>\n",
       "      <th>0</th>\n",
       "      <td>10246810001</td>\n",
       "      <td>TRIGLICERÍDEO</td>\n",
       "      <td>TRIGLICERÍDEOS MÉTODO TOTALMENTE ENZIMÁTICO</td>\n",
       "      <td>II</td>\n",
       "      <td>72807043000194</td>\n",
       "      <td>LABORLAB PRODUTOS PARA LABORATÓRIOS LTDA EPP</td>\n",
       "      <td>LABORLAB PRODUTOS PARA LABORATÓRIOS LTDA EPP</td>\n",
       "      <td>BRASIL</td>\n",
       "      <td>250000000329516</td>\n",
       "      <td>29/02/1996</td>\n",
       "      <td>VIGENTE</td>\n",
       "      <td>10/07/2021 19:00:01</td>\n",
       "    </tr>\n",
       "    <tr>\n",
       "      <th>1</th>\n",
       "      <td>10246810011</td>\n",
       "      <td>COLESTEROL TOTAL</td>\n",
       "      <td>COLESTEROL MÉTODO ENZIMÁTICO</td>\n",
       "      <td>II</td>\n",
       "      <td>72807043000194</td>\n",
       "      <td>LABORLAB PRODUTOS PARA LABORATÓRIOS LTDA EPP</td>\n",
       "      <td>LABORLAB PRODUTOS PARA LABORATÓRIOS LTDA EPP</td>\n",
       "      <td>BRASIL</td>\n",
       "      <td>250000000339589</td>\n",
       "      <td>29/02/1996</td>\n",
       "      <td>VIGENTE</td>\n",
       "      <td>10/07/2021 19:00:01</td>\n",
       "    </tr>\n",
       "    <tr>\n",
       "      <th>2</th>\n",
       "      <td>10246810007</td>\n",
       "      <td>ÁCIDO ÚRICO</td>\n",
       "      <td>Ácido Úrico Método Enzimático</td>\n",
       "      <td>II</td>\n",
       "      <td>72807043000194</td>\n",
       "      <td>LABORLAB PRODUTOS PARA LABORATÓRIOS LTDA EPP</td>\n",
       "      <td>LABORLAB PRODUTOS PARA LABORATÓRIOS LTDA EPP</td>\n",
       "      <td>BRASIL</td>\n",
       "      <td>250000000349541</td>\n",
       "      <td>29/02/1996</td>\n",
       "      <td>VIGENTE</td>\n",
       "      <td>10/07/2021 19:00:01</td>\n",
       "    </tr>\n",
       "    <tr>\n",
       "      <th>3</th>\n",
       "      <td>10246810012</td>\n",
       "      <td>URÉIA</td>\n",
       "      <td>UREIA METODO ENZIMATICO</td>\n",
       "      <td>II</td>\n",
       "      <td>72807043000194</td>\n",
       "      <td>LABORLAB PRODUTOS PARA LABORATÓRIOS LTDA EPP</td>\n",
       "      <td>LABORLAB PRODUTOS PARA LABORATÓRIOS LTDA EPP</td>\n",
       "      <td>BRASIL</td>\n",
       "      <td>250000000359512</td>\n",
       "      <td>29/02/1996</td>\n",
       "      <td>VIGENTE</td>\n",
       "      <td>10/07/2021 19:00:01</td>\n",
       "    </tr>\n",
       "    <tr>\n",
       "      <th>4</th>\n",
       "      <td>10246810004</td>\n",
       "      <td>GLICOSE</td>\n",
       "      <td>GLICOSE METODO ENZIMATICO</td>\n",
       "      <td>II</td>\n",
       "      <td>72807043000194</td>\n",
       "      <td>LABORLAB PRODUTOS PARA LABORATÓRIOS LTDA EPP</td>\n",
       "      <td>LABORLAB PRODUTOS PARA LABORATÓRIOS LTDA EPP</td>\n",
       "      <td>BRASIL</td>\n",
       "      <td>250000000369577</td>\n",
       "      <td>29/02/1996</td>\n",
       "      <td>VIGENTE</td>\n",
       "      <td>10/07/2021 19:00:01</td>\n",
       "    </tr>\n",
       "    <tr>\n",
       "      <th>...</th>\n",
       "      <td>...</td>\n",
       "      <td>...</td>\n",
       "      <td>...</td>\n",
       "      <td>...</td>\n",
       "      <td>...</td>\n",
       "      <td>...</td>\n",
       "      <td>...</td>\n",
       "      <td>...</td>\n",
       "      <td>...</td>\n",
       "      <td>...</td>\n",
       "      <td>...</td>\n",
       "      <td>...</td>\n",
       "    </tr>\n",
       "    <tr>\n",
       "      <th>94237</th>\n",
       "      <td>81327670011</td>\n",
       "      <td>PROCALCITONINA PCT</td>\n",
       "      <td>Cartucho de teste mLabs PCT</td>\n",
       "      <td>II</td>\n",
       "      <td>22940751000120</td>\n",
       "      <td>LUMIRADX HEALTHCARE LTDA</td>\n",
       "      <td>MICROPOINT BIOSCIENCE, INC</td>\n",
       "      <td>ESTADOS UNIDOS DA AMÉRICA</td>\n",
       "      <td>25351999982201624</td>\n",
       "      <td>05/09/2016</td>\n",
       "      <td>VIGENTE</td>\n",
       "      <td>10/07/2021 19:00:01</td>\n",
       "    </tr>\n",
       "    <tr>\n",
       "      <th>94238</th>\n",
       "      <td>81639889003</td>\n",
       "      <td>Lubrificante Intimo</td>\n",
       "      <td>Sete Sensações</td>\n",
       "      <td>II</td>\n",
       "      <td>5304403000148</td>\n",
       "      <td>NS PRODUTOS E SISTEMAS DE HIGIENE LTDA</td>\n",
       "      <td>NS PRODUTOS E SISTEMAS DE HIGIENE LTDA</td>\n",
       "      <td>BRASIL</td>\n",
       "      <td>25351999998202096</td>\n",
       "      <td>01/10/2020</td>\n",
       "      <td>VIGENTE</td>\n",
       "      <td>10/07/2021 19:00:01</td>\n",
       "    </tr>\n",
       "    <tr>\n",
       "      <th>94239</th>\n",
       "      <td>10041120135</td>\n",
       "      <td>Agente de Obturacao Provisoria</td>\n",
       "      <td>CAVITINE - FORRADOR DE CAVIDADES E VERNIZ PARA...</td>\n",
       "      <td>II</td>\n",
       "      <td>68567650000157</td>\n",
       "      <td>SS WHITE ARTIGOS DENTARIOS LTDA</td>\n",
       "      <td>None</td>\n",
       "      <td>None</td>\n",
       "      <td>2599101183677</td>\n",
       "      <td>28/05/1999</td>\n",
       "      <td>VIGENTE</td>\n",
       "      <td>10/07/2021 19:00:01</td>\n",
       "    </tr>\n",
       "    <tr>\n",
       "      <th>94240</th>\n",
       "      <td>10042570009</td>\n",
       "      <td>IMUNOHEMATOLOGIA - REAGENTES COMPLEMENTARES</td>\n",
       "      <td>ALBUMINA BOVINA A 22%</td>\n",
       "      <td>I</td>\n",
       "      <td>44058162000156</td>\n",
       "      <td>PROTHEMO PRODUTOS HEMOTERAPICOS LTDA</td>\n",
       "      <td>PROTHEMO PRODUTOS HEMOTERAPICOS LTDA</td>\n",
       "      <td>BRASIL</td>\n",
       "      <td>2599101614878</td>\n",
       "      <td>25/08/1994</td>\n",
       "      <td>VIGENTE</td>\n",
       "      <td>10/07/2021 19:00:01</td>\n",
       "    </tr>\n",
       "    <tr>\n",
       "      <th>94241</th>\n",
       "      <td>10042570004</td>\n",
       "      <td>IMUNOHEMATOLOGIA - RH-HR, KELL, KIDD, DUFFY - ...</td>\n",
       "      <td>SORO ANTI-HUMANO (SORO ANTI-HUMANO POLIESPECIF...</td>\n",
       "      <td>IV</td>\n",
       "      <td>44058162000156</td>\n",
       "      <td>PROTHEMO PRODUTOS HEMOTERAPICOS LTDA</td>\n",
       "      <td>PROTHEMO PRODUTOS HEMOTERAPICOS LTDA</td>\n",
       "      <td>BRASIL</td>\n",
       "      <td>2599202245974</td>\n",
       "      <td>04/08/1994</td>\n",
       "      <td>01/08/2024</td>\n",
       "      <td>10/07/2021 19:00:01</td>\n",
       "    </tr>\n",
       "  </tbody>\n",
       "</table>\n",
       "<p>94242 rows × 12 columns</p>\n",
       "</div>"
      ],
      "text/plain": [
       "          REGISTRO                                       NOME_TECNICO  \\\n",
       "0      10246810001                                      TRIGLICERÍDEO   \n",
       "1      10246810011                                   COLESTEROL TOTAL   \n",
       "2      10246810007                                        ÁCIDO ÚRICO   \n",
       "3      10246810012                                              URÉIA   \n",
       "4      10246810004                                            GLICOSE   \n",
       "...            ...                                                ...   \n",
       "94237  81327670011                                PROCALCITONINA PCT    \n",
       "94238  81639889003                                Lubrificante Intimo   \n",
       "94239  10041120135                     Agente de Obturacao Provisoria   \n",
       "94240  10042570009        IMUNOHEMATOLOGIA - REAGENTES COMPLEMENTARES   \n",
       "94241  10042570004  IMUNOHEMATOLOGIA - RH-HR, KELL, KIDD, DUFFY - ...   \n",
       "\n",
       "                                          NOME_COMERCIAL CLASSE  \\\n",
       "0            TRIGLICERÍDEOS MÉTODO TOTALMENTE ENZIMÁTICO     II   \n",
       "1                           COLESTEROL MÉTODO ENZIMÁTICO     II   \n",
       "2                          Ácido Úrico Método Enzimático     II   \n",
       "3                                UREIA METODO ENZIMATICO     II   \n",
       "4                              GLICOSE METODO ENZIMATICO     II   \n",
       "...                                                  ...    ...   \n",
       "94237                        Cartucho de teste mLabs PCT     II   \n",
       "94238                                     Sete Sensações     II   \n",
       "94239  CAVITINE - FORRADOR DE CAVIDADES E VERNIZ PARA...     II   \n",
       "94240                              ALBUMINA BOVINA A 22%      I   \n",
       "94241  SORO ANTI-HUMANO (SORO ANTI-HUMANO POLIESPECIF...     IV   \n",
       "\n",
       "                 CNPJ                                      DETENTOR  \\\n",
       "0      72807043000194  LABORLAB PRODUTOS PARA LABORATÓRIOS LTDA EPP   \n",
       "1      72807043000194  LABORLAB PRODUTOS PARA LABORATÓRIOS LTDA EPP   \n",
       "2      72807043000194  LABORLAB PRODUTOS PARA LABORATÓRIOS LTDA EPP   \n",
       "3      72807043000194  LABORLAB PRODUTOS PARA LABORATÓRIOS LTDA EPP   \n",
       "4      72807043000194  LABORLAB PRODUTOS PARA LABORATÓRIOS LTDA EPP   \n",
       "...               ...                                           ...   \n",
       "94237  22940751000120                      LUMIRADX HEALTHCARE LTDA   \n",
       "94238   5304403000148        NS PRODUTOS E SISTEMAS DE HIGIENE LTDA   \n",
       "94239  68567650000157               SS WHITE ARTIGOS DENTARIOS LTDA   \n",
       "94240  44058162000156          PROTHEMO PRODUTOS HEMOTERAPICOS LTDA   \n",
       "94241  44058162000156          PROTHEMO PRODUTOS HEMOTERAPICOS LTDA   \n",
       "\n",
       "                                    NOME_FABRICANTE  \\\n",
       "0      LABORLAB PRODUTOS PARA LABORATÓRIOS LTDA EPP   \n",
       "1      LABORLAB PRODUTOS PARA LABORATÓRIOS LTDA EPP   \n",
       "2      LABORLAB PRODUTOS PARA LABORATÓRIOS LTDA EPP   \n",
       "3      LABORLAB PRODUTOS PARA LABORATÓRIOS LTDA EPP   \n",
       "4      LABORLAB PRODUTOS PARA LABORATÓRIOS LTDA EPP   \n",
       "...                                             ...   \n",
       "94237                    MICROPOINT BIOSCIENCE, INC   \n",
       "94238        NS PRODUTOS E SISTEMAS DE HIGIENE LTDA   \n",
       "94239                                          None   \n",
       "94240          PROTHEMO PRODUTOS HEMOTERAPICOS LTDA   \n",
       "94241          PROTHEMO PRODUTOS HEMOTERAPICOS LTDA   \n",
       "\n",
       "                     PAIS_FABRIC           PROCESSO DATA_PUBLIC  \\\n",
       "0                         BRASIL    250000000329516  29/02/1996   \n",
       "1                         BRASIL    250000000339589  29/02/1996   \n",
       "2                         BRASIL    250000000349541  29/02/1996   \n",
       "3                         BRASIL    250000000359512  29/02/1996   \n",
       "4                         BRASIL    250000000369577  29/02/1996   \n",
       "...                          ...                ...         ...   \n",
       "94237  ESTADOS UNIDOS DA AMÉRICA  25351999982201624  05/09/2016   \n",
       "94238                     BRASIL  25351999998202096  01/10/2020   \n",
       "94239                       None      2599101183677  28/05/1999   \n",
       "94240                     BRASIL      2599101614878  25/08/1994   \n",
       "94241                     BRASIL      2599202245974  04/08/1994   \n",
       "\n",
       "      VALID_REGISTRO              DATA_AT  \n",
       "0            VIGENTE  10/07/2021 19:00:01  \n",
       "1            VIGENTE  10/07/2021 19:00:01  \n",
       "2            VIGENTE  10/07/2021 19:00:01  \n",
       "3            VIGENTE  10/07/2021 19:00:01  \n",
       "4            VIGENTE  10/07/2021 19:00:01  \n",
       "...              ...                  ...  \n",
       "94237        VIGENTE  10/07/2021 19:00:01  \n",
       "94238        VIGENTE  10/07/2021 19:00:01  \n",
       "94239        VIGENTE  10/07/2021 19:00:01  \n",
       "94240        VIGENTE  10/07/2021 19:00:01  \n",
       "94241     01/08/2024  10/07/2021 19:00:01  \n",
       "\n",
       "[94242 rows x 12 columns]"
      ]
     },
     "execution_count": 8,
     "metadata": {},
     "output_type": "execute_result"
    }
   ],
   "source": [
    "# MD TABLE \n",
    "\n",
    "MD = pd.read_sql_query(\n",
    "    '''\n",
    "    SELECT numero_registro_cadastro as REGISTRO,\n",
    "    NOME_TECNICO,\n",
    "    NOME_COMERCIAL,\n",
    "    classe_risco AS CLASSE,\n",
    "    cnpj_detentor_registro_cadastro AS CNPJ,\n",
    "    detentor_registro_cadastro AS DETENTOR,\n",
    "    NOME_FABRICANTE,\n",
    "    nome_pais_fabric AS PAIS_FABRIC,\n",
    "    numero_processo AS PROCESSO,\n",
    "    dt_pub_registro_cadastro AS DATA_PUBLIC,\n",
    "    validade_registro_cadastro AS VALID_REGISTRO,\n",
    "    dt_atualizacao_dado AS DATA_AT\n",
    "    \n",
    "    FROM MD\n",
    "    ''',\n",
    "    sqlite3.connect(f'{path}\\\\{FILE}.db')\n",
    ")\n",
    "\n",
    "pd.set_option('display.max_rows', 10)\n",
    "\n",
    "print(f'''WERE FOUND {MD.shape[0]} REGISTERS IN THE LAST UPADATE, ON {pd.to_datetime(MD['DATA_AT'][0][:10], format = '%d/%m/%Y')}''')\n",
    "MD"
   ]
  },
  {
   "cell_type": "code",
   "execution_count": 7,
   "id": "f27f2854",
   "metadata": {
    "code_folding": []
   },
   "outputs": [],
   "source": [
    "#CREATE VARIABLES TO TREAT DATA\n",
    "\n",
    "#CREATE A LIST OF COLUMNS\n",
    "COLS = list(MD.columns)\n",
    "\n",
    "#LIST OF UNIQUE STRINGS FOR EACH COLUMN\n",
    "L_REGISTRO = [MD['REGISTRO'].unique()]\n",
    "L_NOME_COMERCIAL = list(MD['NOME_COMERCIAL'].unique())\n",
    "L_CNPJ = list(MD['CNPJ'].unique())\n",
    "L_DETENTOR = list(MD['DETENTOR'].unique())\n",
    "L_NOME_FABRICANTE = list(MD['NOME_FABRICANTE'].unique())\n",
    "L_PAIS_FABRIC = list(MD['PAIS_FABRIC'].unique())\n",
    "L_DATA_PUBLIC = list(MD['NOME_TECNICO'].unique())\n",
    "L_VALID_REGISTRO = list(MD['NOME_TECNICO'].unique())"
   ]
  },
  {
   "cell_type": "code",
   "execution_count": 13,
   "id": "5eaaebfe",
   "metadata": {},
   "outputs": [
    {
     "ename": "TypeError",
     "evalue": "to_dict() got an unexpected keyword argument 'columns'",
     "output_type": "error",
     "traceback": [
      "\u001b[1;31m---------------------------------------------------------------------------\u001b[0m",
      "\u001b[1;31mTypeError\u001b[0m                                 Traceback (most recent call last)",
      "\u001b[1;32m<ipython-input-13-d697df6608ad>\u001b[0m in \u001b[0;36m<module>\u001b[1;34m\u001b[0m\n\u001b[1;32m----> 1\u001b[1;33m \u001b[0mMD\u001b[0m\u001b[1;33m.\u001b[0m\u001b[0mto_dict\u001b[0m\u001b[1;33m(\u001b[0m\u001b[0morient\u001b[0m \u001b[1;33m=\u001b[0m \u001b[1;34m'Dict'\u001b[0m\u001b[1;33m,\u001b[0m \u001b[0mcolumns\u001b[0m\u001b[1;33m=\u001b[0m\u001b[1;33m[\u001b[0m\u001b[1;34m'DETENTOR'\u001b[0m\u001b[1;33m,\u001b[0m \u001b[1;34m'CNPJ'\u001b[0m\u001b[1;33m]\u001b[0m\u001b[1;33m)\u001b[0m\u001b[1;33m\u001b[0m\u001b[1;33m\u001b[0m\u001b[0m\n\u001b[0m\u001b[0;32m      2\u001b[0m \u001b[1;33m\u001b[0m\u001b[0m\n\u001b[0;32m      3\u001b[0m \u001b[1;31m#- 'dict' (default) : dict like {column -> {index -> value}}\u001b[0m\u001b[1;33m\u001b[0m\u001b[1;33m\u001b[0m\u001b[1;33m\u001b[0m\u001b[0m\n",
      "\u001b[1;31mTypeError\u001b[0m: to_dict() got an unexpected keyword argument 'columns'"
     ]
    }
   ],
   "source": [
    "MD.to_dict(orient = 'Dict', columns=['DETENTOR', 'CNPJ'])\n",
    "\n",
    "#- 'dict' (default) : dict like {column -> {index -> value}}\n",
    "\n",
    "#df.to_dict(into=OrderedDict)\n",
    "#OrderedDict([('col1', OrderedDict([('row1', 1), ('row2', 2)])),\n",
    "#             ('col2', OrderedDict([('row1', 0.5), ('row2', 0.75)]))])"
   ]
  },
  {
   "cell_type": "code",
   "execution_count": null,
   "id": "306dffe2",
   "metadata": {},
   "outputs": [],
   "source": []
  },
  {
   "cell_type": "code",
   "execution_count": null,
   "id": "dd1750a4",
   "metadata": {},
   "outputs": [],
   "source": []
  },
  {
   "cell_type": "code",
   "execution_count": null,
   "id": "f25b2085",
   "metadata": {},
   "outputs": [],
   "source": []
  },
  {
   "cell_type": "code",
   "execution_count": null,
   "id": "2d2e3ecc",
   "metadata": {},
   "outputs": [],
   "source": []
  },
  {
   "cell_type": "code",
   "execution_count": 16,
   "id": "33edc18b",
   "metadata": {},
   "outputs": [],
   "source": [
    "Companies: List[Dict[str, str]]\n",
    "\n",
    "def search_company(\n",
    "    Companies: List[Dict[str, str]], company_name: str) -> Dict[str, str]:\n",
    "    for company in Companies:\n",
    "        company_name, cnpj = company.values()\n",
    "        \n",
    "        if company_name == f'{company_name} {cnpj}':\n",
    "            return company\n",
    "        \n",
    "        regex= re.compile(fr'{company} \\s+{cnpj}', flags=re.I)\n",
    "        if regex.search(company_name):\n",
    "            return company\n",
    "    \n",
    "    return {}\n",
    "\n",
    "if __company__ = \"__main__\":\n",
    "    \n",
    "        \n",
    "\n",
    "\n",
    "#for cnpj in L_CNPJ:\n",
    "#    detentor = (MD.loc[MD['CNPJ']== cnpj, 'DETENTOR'].unique()).str\n",
    "#    L_DETENTOR[detentor] = cnpj\n",
    "\n",
    "#L_DETENTOR\n",
    "#MD['DETENTOR'].unique().shape[0]\n",
    "\n",
    "#MD.loc[MD['DETENTOR'].str.contains('MEDTRONIC'), 'CNPJ'].unique()\n",
    "\n",
    "#MD[MD['DETENTOR'].str.contains('MEDTRONIC')]\n",
    "\n",
    "#df[df['a'].isin(['x'])] buscar palavra ou fragmento\n",
    "#df[df['a'].str.contains('x')] buscar palavra ou fragmento \n",
    "#df[df['a'].str.len()> 9] palavras com quantidade de caract maior que 9\n",
    "#df[df['a'].str.contains('x|y')] -- buscar varios - - use barra \\ para inserir caracteres especiais !, +, -, % ..."
   ]
  },
  {
   "cell_type": "code",
   "execution_count": 101,
   "id": "39100a16",
   "metadata": {
    "code_folding": []
   },
   "outputs": [
    {
     "ename": "SyntaxError",
     "evalue": "invalid syntax (<ipython-input-101-425920576b9f>, line 10)",
     "output_type": "error",
     "traceback": [
      "\u001b[1;36m  File \u001b[1;32m\"<ipython-input-101-425920576b9f>\"\u001b[1;36m, line \u001b[1;32m10\u001b[0m\n\u001b[1;33m    encoding[]\u001b[0m\n\u001b[1;37m             ^\u001b[0m\n\u001b[1;31mSyntaxError\u001b[0m\u001b[1;31m:\u001b[0m invalid syntax\n"
     ]
    }
   ],
   "source": [
    "#Procurando arquivos que serão utilizados\n",
    "#CAMINHO DOS ARQUIVOS\n",
    "path = 'D:\\PYTHON PROJECTS\\AULAS DH\\PESQUISA ANVISA PRODUTO'\n",
    "file= 'TA_PRODUTO_SAUDE_SITE.csv'\n",
    "encoding = []\n",
    "\n",
    "os.chdir(path) #ABRE O CAMINHO DOS ARQUIVOS CONFORME VARIAVEL 'PATH'\n",
    "os.listdir() #LISTA OS NOMES DOS ARQUIVOS DO CAMINHO ACESSADO\n",
    "with open(path + '\\\\' + file) as encoding:\n",
    "    encoding[]"
   ]
  },
  {
   "cell_type": "code",
   "execution_count": 46,
   "id": "4021d6fb",
   "metadata": {
    "code_folding": []
   },
   "outputs": [
    {
     "ename": "SSLError",
     "evalue": "HTTPSConnectionPool(host='dados.anvisa.gov.br', port=443): Max retries exceeded with url: //dados//TA_PRODUTO_SAUDE_SITE.csv (Caused by SSLError(SSLCertVerificationError(1, '[SSL: CERTIFICATE_VERIFY_FAILED] certificate verify failed: unable to get local issuer certificate (_ssl.c:1123)')))",
     "output_type": "error",
     "traceback": [
      "\u001b[1;31m---------------------------------------------------------------------------\u001b[0m",
      "\u001b[1;31mSSLCertVerificationError\u001b[0m                  Traceback (most recent call last)",
      "\u001b[1;32m~\\anaconda3\\envs\\env\\lib\\site-packages\\urllib3\\connectionpool.py\u001b[0m in \u001b[0;36murlopen\u001b[1;34m(self, method, url, body, headers, retries, redirect, assert_same_host, timeout, pool_timeout, release_conn, chunked, body_pos, **response_kw)\u001b[0m\n\u001b[0;32m    698\u001b[0m             \u001b[1;31m# Make the request on the httplib connection object.\u001b[0m\u001b[1;33m\u001b[0m\u001b[1;33m\u001b[0m\u001b[1;33m\u001b[0m\u001b[0m\n\u001b[1;32m--> 699\u001b[1;33m             httplib_response = self._make_request(\n\u001b[0m\u001b[0;32m    700\u001b[0m                 \u001b[0mconn\u001b[0m\u001b[1;33m,\u001b[0m\u001b[1;33m\u001b[0m\u001b[1;33m\u001b[0m\u001b[0m\n",
      "\u001b[1;32m~\\anaconda3\\envs\\env\\lib\\site-packages\\urllib3\\connectionpool.py\u001b[0m in \u001b[0;36m_make_request\u001b[1;34m(self, conn, method, url, timeout, chunked, **httplib_request_kw)\u001b[0m\n\u001b[0;32m    381\u001b[0m         \u001b[1;32mtry\u001b[0m\u001b[1;33m:\u001b[0m\u001b[1;33m\u001b[0m\u001b[1;33m\u001b[0m\u001b[0m\n\u001b[1;32m--> 382\u001b[1;33m             \u001b[0mself\u001b[0m\u001b[1;33m.\u001b[0m\u001b[0m_validate_conn\u001b[0m\u001b[1;33m(\u001b[0m\u001b[0mconn\u001b[0m\u001b[1;33m)\u001b[0m\u001b[1;33m\u001b[0m\u001b[1;33m\u001b[0m\u001b[0m\n\u001b[0m\u001b[0;32m    383\u001b[0m         \u001b[1;32mexcept\u001b[0m \u001b[1;33m(\u001b[0m\u001b[0mSocketTimeout\u001b[0m\u001b[1;33m,\u001b[0m \u001b[0mBaseSSLError\u001b[0m\u001b[1;33m)\u001b[0m \u001b[1;32mas\u001b[0m \u001b[0me\u001b[0m\u001b[1;33m:\u001b[0m\u001b[1;33m\u001b[0m\u001b[1;33m\u001b[0m\u001b[0m\n",
      "\u001b[1;32m~\\anaconda3\\envs\\env\\lib\\site-packages\\urllib3\\connectionpool.py\u001b[0m in \u001b[0;36m_validate_conn\u001b[1;34m(self, conn)\u001b[0m\n\u001b[0;32m   1009\u001b[0m         \u001b[1;32mif\u001b[0m \u001b[1;32mnot\u001b[0m \u001b[0mgetattr\u001b[0m\u001b[1;33m(\u001b[0m\u001b[0mconn\u001b[0m\u001b[1;33m,\u001b[0m \u001b[1;34m\"sock\"\u001b[0m\u001b[1;33m,\u001b[0m \u001b[1;32mNone\u001b[0m\u001b[1;33m)\u001b[0m\u001b[1;33m:\u001b[0m  \u001b[1;31m# AppEngine might not have  `.sock`\u001b[0m\u001b[1;33m\u001b[0m\u001b[1;33m\u001b[0m\u001b[0m\n\u001b[1;32m-> 1010\u001b[1;33m             \u001b[0mconn\u001b[0m\u001b[1;33m.\u001b[0m\u001b[0mconnect\u001b[0m\u001b[1;33m(\u001b[0m\u001b[1;33m)\u001b[0m\u001b[1;33m\u001b[0m\u001b[1;33m\u001b[0m\u001b[0m\n\u001b[0m\u001b[0;32m   1011\u001b[0m \u001b[1;33m\u001b[0m\u001b[0m\n",
      "\u001b[1;32m~\\anaconda3\\envs\\env\\lib\\site-packages\\urllib3\\connection.py\u001b[0m in \u001b[0;36mconnect\u001b[1;34m(self)\u001b[0m\n\u001b[0;32m    410\u001b[0m \u001b[1;33m\u001b[0m\u001b[0m\n\u001b[1;32m--> 411\u001b[1;33m         self.sock = ssl_wrap_socket(\n\u001b[0m\u001b[0;32m    412\u001b[0m             \u001b[0msock\u001b[0m\u001b[1;33m=\u001b[0m\u001b[0mconn\u001b[0m\u001b[1;33m,\u001b[0m\u001b[1;33m\u001b[0m\u001b[1;33m\u001b[0m\u001b[0m\n",
      "\u001b[1;32m~\\anaconda3\\envs\\env\\lib\\site-packages\\urllib3\\util\\ssl_.py\u001b[0m in \u001b[0;36mssl_wrap_socket\u001b[1;34m(sock, keyfile, certfile, cert_reqs, ca_certs, server_hostname, ssl_version, ciphers, ssl_context, ca_cert_dir, key_password, ca_cert_data, tls_in_tls)\u001b[0m\n\u001b[0;32m    427\u001b[0m     \u001b[1;32mif\u001b[0m \u001b[0msend_sni\u001b[0m\u001b[1;33m:\u001b[0m\u001b[1;33m\u001b[0m\u001b[1;33m\u001b[0m\u001b[0m\n\u001b[1;32m--> 428\u001b[1;33m         ssl_sock = _ssl_wrap_socket_impl(\n\u001b[0m\u001b[0;32m    429\u001b[0m             \u001b[0msock\u001b[0m\u001b[1;33m,\u001b[0m \u001b[0mcontext\u001b[0m\u001b[1;33m,\u001b[0m \u001b[0mtls_in_tls\u001b[0m\u001b[1;33m,\u001b[0m \u001b[0mserver_hostname\u001b[0m\u001b[1;33m=\u001b[0m\u001b[0mserver_hostname\u001b[0m\u001b[1;33m\u001b[0m\u001b[1;33m\u001b[0m\u001b[0m\n",
      "\u001b[1;32m~\\anaconda3\\envs\\env\\lib\\site-packages\\urllib3\\util\\ssl_.py\u001b[0m in \u001b[0;36m_ssl_wrap_socket_impl\u001b[1;34m(sock, ssl_context, tls_in_tls, server_hostname)\u001b[0m\n\u001b[0;32m    471\u001b[0m     \u001b[1;32mif\u001b[0m \u001b[0mserver_hostname\u001b[0m\u001b[1;33m:\u001b[0m\u001b[1;33m\u001b[0m\u001b[1;33m\u001b[0m\u001b[0m\n\u001b[1;32m--> 472\u001b[1;33m         \u001b[1;32mreturn\u001b[0m \u001b[0mssl_context\u001b[0m\u001b[1;33m.\u001b[0m\u001b[0mwrap_socket\u001b[0m\u001b[1;33m(\u001b[0m\u001b[0msock\u001b[0m\u001b[1;33m,\u001b[0m \u001b[0mserver_hostname\u001b[0m\u001b[1;33m=\u001b[0m\u001b[0mserver_hostname\u001b[0m\u001b[1;33m)\u001b[0m\u001b[1;33m\u001b[0m\u001b[1;33m\u001b[0m\u001b[0m\n\u001b[0m\u001b[0;32m    473\u001b[0m     \u001b[1;32melse\u001b[0m\u001b[1;33m:\u001b[0m\u001b[1;33m\u001b[0m\u001b[1;33m\u001b[0m\u001b[0m\n",
      "\u001b[1;32m~\\anaconda3\\envs\\env\\lib\\ssl.py\u001b[0m in \u001b[0;36mwrap_socket\u001b[1;34m(self, sock, server_side, do_handshake_on_connect, suppress_ragged_eofs, server_hostname, session)\u001b[0m\n\u001b[0;32m    499\u001b[0m         \u001b[1;31m# ctx._wrap_socket()\u001b[0m\u001b[1;33m\u001b[0m\u001b[1;33m\u001b[0m\u001b[1;33m\u001b[0m\u001b[0m\n\u001b[1;32m--> 500\u001b[1;33m         return self.sslsocket_class._create(\n\u001b[0m\u001b[0;32m    501\u001b[0m             \u001b[0msock\u001b[0m\u001b[1;33m=\u001b[0m\u001b[0msock\u001b[0m\u001b[1;33m,\u001b[0m\u001b[1;33m\u001b[0m\u001b[1;33m\u001b[0m\u001b[0m\n",
      "\u001b[1;32m~\\anaconda3\\envs\\env\\lib\\ssl.py\u001b[0m in \u001b[0;36m_create\u001b[1;34m(cls, sock, server_side, do_handshake_on_connect, suppress_ragged_eofs, server_hostname, context, session)\u001b[0m\n\u001b[0;32m   1039\u001b[0m                         \u001b[1;32mraise\u001b[0m \u001b[0mValueError\u001b[0m\u001b[1;33m(\u001b[0m\u001b[1;34m\"do_handshake_on_connect should not be specified for non-blocking sockets\"\u001b[0m\u001b[1;33m)\u001b[0m\u001b[1;33m\u001b[0m\u001b[1;33m\u001b[0m\u001b[0m\n\u001b[1;32m-> 1040\u001b[1;33m                     \u001b[0mself\u001b[0m\u001b[1;33m.\u001b[0m\u001b[0mdo_handshake\u001b[0m\u001b[1;33m(\u001b[0m\u001b[1;33m)\u001b[0m\u001b[1;33m\u001b[0m\u001b[1;33m\u001b[0m\u001b[0m\n\u001b[0m\u001b[0;32m   1041\u001b[0m             \u001b[1;32mexcept\u001b[0m \u001b[1;33m(\u001b[0m\u001b[0mOSError\u001b[0m\u001b[1;33m,\u001b[0m \u001b[0mValueError\u001b[0m\u001b[1;33m)\u001b[0m\u001b[1;33m:\u001b[0m\u001b[1;33m\u001b[0m\u001b[1;33m\u001b[0m\u001b[0m\n",
      "\u001b[1;32m~\\anaconda3\\envs\\env\\lib\\ssl.py\u001b[0m in \u001b[0;36mdo_handshake\u001b[1;34m(self, block)\u001b[0m\n\u001b[0;32m   1308\u001b[0m                 \u001b[0mself\u001b[0m\u001b[1;33m.\u001b[0m\u001b[0msettimeout\u001b[0m\u001b[1;33m(\u001b[0m\u001b[1;32mNone\u001b[0m\u001b[1;33m)\u001b[0m\u001b[1;33m\u001b[0m\u001b[1;33m\u001b[0m\u001b[0m\n\u001b[1;32m-> 1309\u001b[1;33m             \u001b[0mself\u001b[0m\u001b[1;33m.\u001b[0m\u001b[0m_sslobj\u001b[0m\u001b[1;33m.\u001b[0m\u001b[0mdo_handshake\u001b[0m\u001b[1;33m(\u001b[0m\u001b[1;33m)\u001b[0m\u001b[1;33m\u001b[0m\u001b[1;33m\u001b[0m\u001b[0m\n\u001b[0m\u001b[0;32m   1310\u001b[0m         \u001b[1;32mfinally\u001b[0m\u001b[1;33m:\u001b[0m\u001b[1;33m\u001b[0m\u001b[1;33m\u001b[0m\u001b[0m\n",
      "\u001b[1;31mSSLCertVerificationError\u001b[0m: [SSL: CERTIFICATE_VERIFY_FAILED] certificate verify failed: unable to get local issuer certificate (_ssl.c:1123)",
      "\nDuring handling of the above exception, another exception occurred:\n",
      "\u001b[1;31mMaxRetryError\u001b[0m                             Traceback (most recent call last)",
      "\u001b[1;32m~\\anaconda3\\envs\\env\\lib\\site-packages\\requests\\adapters.py\u001b[0m in \u001b[0;36msend\u001b[1;34m(self, request, stream, timeout, verify, cert, proxies)\u001b[0m\n\u001b[0;32m    438\u001b[0m             \u001b[1;32mif\u001b[0m \u001b[1;32mnot\u001b[0m \u001b[0mchunked\u001b[0m\u001b[1;33m:\u001b[0m\u001b[1;33m\u001b[0m\u001b[1;33m\u001b[0m\u001b[0m\n\u001b[1;32m--> 439\u001b[1;33m                 resp = conn.urlopen(\n\u001b[0m\u001b[0;32m    440\u001b[0m                     \u001b[0mmethod\u001b[0m\u001b[1;33m=\u001b[0m\u001b[0mrequest\u001b[0m\u001b[1;33m.\u001b[0m\u001b[0mmethod\u001b[0m\u001b[1;33m,\u001b[0m\u001b[1;33m\u001b[0m\u001b[1;33m\u001b[0m\u001b[0m\n",
      "\u001b[1;32m~\\anaconda3\\envs\\env\\lib\\site-packages\\urllib3\\connectionpool.py\u001b[0m in \u001b[0;36murlopen\u001b[1;34m(self, method, url, body, headers, retries, redirect, assert_same_host, timeout, pool_timeout, release_conn, chunked, body_pos, **response_kw)\u001b[0m\n\u001b[0;32m    754\u001b[0m \u001b[1;33m\u001b[0m\u001b[0m\n\u001b[1;32m--> 755\u001b[1;33m             retries = retries.increment(\n\u001b[0m\u001b[0;32m    756\u001b[0m                 \u001b[0mmethod\u001b[0m\u001b[1;33m,\u001b[0m \u001b[0murl\u001b[0m\u001b[1;33m,\u001b[0m \u001b[0merror\u001b[0m\u001b[1;33m=\u001b[0m\u001b[0me\u001b[0m\u001b[1;33m,\u001b[0m \u001b[0m_pool\u001b[0m\u001b[1;33m=\u001b[0m\u001b[0mself\u001b[0m\u001b[1;33m,\u001b[0m \u001b[0m_stacktrace\u001b[0m\u001b[1;33m=\u001b[0m\u001b[0msys\u001b[0m\u001b[1;33m.\u001b[0m\u001b[0mexc_info\u001b[0m\u001b[1;33m(\u001b[0m\u001b[1;33m)\u001b[0m\u001b[1;33m[\u001b[0m\u001b[1;36m2\u001b[0m\u001b[1;33m]\u001b[0m\u001b[1;33m\u001b[0m\u001b[1;33m\u001b[0m\u001b[0m\n",
      "\u001b[1;32m~\\anaconda3\\envs\\env\\lib\\site-packages\\urllib3\\util\\retry.py\u001b[0m in \u001b[0;36mincrement\u001b[1;34m(self, method, url, response, error, _pool, _stacktrace)\u001b[0m\n\u001b[0;32m    573\u001b[0m         \u001b[1;32mif\u001b[0m \u001b[0mnew_retry\u001b[0m\u001b[1;33m.\u001b[0m\u001b[0mis_exhausted\u001b[0m\u001b[1;33m(\u001b[0m\u001b[1;33m)\u001b[0m\u001b[1;33m:\u001b[0m\u001b[1;33m\u001b[0m\u001b[1;33m\u001b[0m\u001b[0m\n\u001b[1;32m--> 574\u001b[1;33m             \u001b[1;32mraise\u001b[0m \u001b[0mMaxRetryError\u001b[0m\u001b[1;33m(\u001b[0m\u001b[0m_pool\u001b[0m\u001b[1;33m,\u001b[0m \u001b[0murl\u001b[0m\u001b[1;33m,\u001b[0m \u001b[0merror\u001b[0m \u001b[1;32mor\u001b[0m \u001b[0mResponseError\u001b[0m\u001b[1;33m(\u001b[0m\u001b[0mcause\u001b[0m\u001b[1;33m)\u001b[0m\u001b[1;33m)\u001b[0m\u001b[1;33m\u001b[0m\u001b[1;33m\u001b[0m\u001b[0m\n\u001b[0m\u001b[0;32m    575\u001b[0m \u001b[1;33m\u001b[0m\u001b[0m\n",
      "\u001b[1;31mMaxRetryError\u001b[0m: HTTPSConnectionPool(host='dados.anvisa.gov.br', port=443): Max retries exceeded with url: //dados//TA_PRODUTO_SAUDE_SITE.csv (Caused by SSLError(SSLCertVerificationError(1, '[SSL: CERTIFICATE_VERIFY_FAILED] certificate verify failed: unable to get local issuer certificate (_ssl.c:1123)')))",
      "\nDuring handling of the above exception, another exception occurred:\n",
      "\u001b[1;31mSSLError\u001b[0m                                  Traceback (most recent call last)",
      "\u001b[1;32m<ipython-input-46-9087f6b5fa58>\u001b[0m in \u001b[0;36m<module>\u001b[1;34m\u001b[0m\n\u001b[0;32m      9\u001b[0m \u001b[1;33m\u001b[0m\u001b[0m\n\u001b[0;32m     10\u001b[0m \u001b[1;31m#capturamos a resposta que a URL nos trás\u001b[0m\u001b[1;33m\u001b[0m\u001b[1;33m\u001b[0m\u001b[1;33m\u001b[0m\u001b[0m\n\u001b[1;32m---> 11\u001b[1;33m \u001b[0mresponse\u001b[0m \u001b[1;33m=\u001b[0m \u001b[0mget\u001b[0m\u001b[1;33m(\u001b[0m\u001b[0murl\u001b[0m\u001b[1;33m)\u001b[0m\u001b[1;33m\u001b[0m\u001b[1;33m\u001b[0m\u001b[0m\n\u001b[0m\u001b[0;32m     12\u001b[0m \u001b[0mresponse\u001b[0m\u001b[1;33m\u001b[0m\u001b[1;33m\u001b[0m\u001b[0m\n",
      "\u001b[1;32m~\\anaconda3\\envs\\env\\lib\\site-packages\\requests\\api.py\u001b[0m in \u001b[0;36mget\u001b[1;34m(url, params, **kwargs)\u001b[0m\n\u001b[0;32m     74\u001b[0m \u001b[1;33m\u001b[0m\u001b[0m\n\u001b[0;32m     75\u001b[0m     \u001b[0mkwargs\u001b[0m\u001b[1;33m.\u001b[0m\u001b[0msetdefault\u001b[0m\u001b[1;33m(\u001b[0m\u001b[1;34m'allow_redirects'\u001b[0m\u001b[1;33m,\u001b[0m \u001b[1;32mTrue\u001b[0m\u001b[1;33m)\u001b[0m\u001b[1;33m\u001b[0m\u001b[1;33m\u001b[0m\u001b[0m\n\u001b[1;32m---> 76\u001b[1;33m     \u001b[1;32mreturn\u001b[0m \u001b[0mrequest\u001b[0m\u001b[1;33m(\u001b[0m\u001b[1;34m'get'\u001b[0m\u001b[1;33m,\u001b[0m \u001b[0murl\u001b[0m\u001b[1;33m,\u001b[0m \u001b[0mparams\u001b[0m\u001b[1;33m=\u001b[0m\u001b[0mparams\u001b[0m\u001b[1;33m,\u001b[0m \u001b[1;33m**\u001b[0m\u001b[0mkwargs\u001b[0m\u001b[1;33m)\u001b[0m\u001b[1;33m\u001b[0m\u001b[1;33m\u001b[0m\u001b[0m\n\u001b[0m\u001b[0;32m     77\u001b[0m \u001b[1;33m\u001b[0m\u001b[0m\n\u001b[0;32m     78\u001b[0m \u001b[1;33m\u001b[0m\u001b[0m\n",
      "\u001b[1;32m~\\anaconda3\\envs\\env\\lib\\site-packages\\requests\\api.py\u001b[0m in \u001b[0;36mrequest\u001b[1;34m(method, url, **kwargs)\u001b[0m\n\u001b[0;32m     59\u001b[0m     \u001b[1;31m# cases, and look like a memory leak in others.\u001b[0m\u001b[1;33m\u001b[0m\u001b[1;33m\u001b[0m\u001b[1;33m\u001b[0m\u001b[0m\n\u001b[0;32m     60\u001b[0m     \u001b[1;32mwith\u001b[0m \u001b[0msessions\u001b[0m\u001b[1;33m.\u001b[0m\u001b[0mSession\u001b[0m\u001b[1;33m(\u001b[0m\u001b[1;33m)\u001b[0m \u001b[1;32mas\u001b[0m \u001b[0msession\u001b[0m\u001b[1;33m:\u001b[0m\u001b[1;33m\u001b[0m\u001b[1;33m\u001b[0m\u001b[0m\n\u001b[1;32m---> 61\u001b[1;33m         \u001b[1;32mreturn\u001b[0m \u001b[0msession\u001b[0m\u001b[1;33m.\u001b[0m\u001b[0mrequest\u001b[0m\u001b[1;33m(\u001b[0m\u001b[0mmethod\u001b[0m\u001b[1;33m=\u001b[0m\u001b[0mmethod\u001b[0m\u001b[1;33m,\u001b[0m \u001b[0murl\u001b[0m\u001b[1;33m=\u001b[0m\u001b[0murl\u001b[0m\u001b[1;33m,\u001b[0m \u001b[1;33m**\u001b[0m\u001b[0mkwargs\u001b[0m\u001b[1;33m)\u001b[0m\u001b[1;33m\u001b[0m\u001b[1;33m\u001b[0m\u001b[0m\n\u001b[0m\u001b[0;32m     62\u001b[0m \u001b[1;33m\u001b[0m\u001b[0m\n\u001b[0;32m     63\u001b[0m \u001b[1;33m\u001b[0m\u001b[0m\n",
      "\u001b[1;32m~\\anaconda3\\envs\\env\\lib\\site-packages\\requests\\sessions.py\u001b[0m in \u001b[0;36mrequest\u001b[1;34m(self, method, url, params, data, headers, cookies, files, auth, timeout, allow_redirects, proxies, hooks, stream, verify, cert, json)\u001b[0m\n\u001b[0;32m    540\u001b[0m         }\n\u001b[0;32m    541\u001b[0m         \u001b[0msend_kwargs\u001b[0m\u001b[1;33m.\u001b[0m\u001b[0mupdate\u001b[0m\u001b[1;33m(\u001b[0m\u001b[0msettings\u001b[0m\u001b[1;33m)\u001b[0m\u001b[1;33m\u001b[0m\u001b[1;33m\u001b[0m\u001b[0m\n\u001b[1;32m--> 542\u001b[1;33m         \u001b[0mresp\u001b[0m \u001b[1;33m=\u001b[0m \u001b[0mself\u001b[0m\u001b[1;33m.\u001b[0m\u001b[0msend\u001b[0m\u001b[1;33m(\u001b[0m\u001b[0mprep\u001b[0m\u001b[1;33m,\u001b[0m \u001b[1;33m**\u001b[0m\u001b[0msend_kwargs\u001b[0m\u001b[1;33m)\u001b[0m\u001b[1;33m\u001b[0m\u001b[1;33m\u001b[0m\u001b[0m\n\u001b[0m\u001b[0;32m    543\u001b[0m \u001b[1;33m\u001b[0m\u001b[0m\n\u001b[0;32m    544\u001b[0m         \u001b[1;32mreturn\u001b[0m \u001b[0mresp\u001b[0m\u001b[1;33m\u001b[0m\u001b[1;33m\u001b[0m\u001b[0m\n",
      "\u001b[1;32m~\\anaconda3\\envs\\env\\lib\\site-packages\\requests\\sessions.py\u001b[0m in \u001b[0;36msend\u001b[1;34m(self, request, **kwargs)\u001b[0m\n\u001b[0;32m    653\u001b[0m \u001b[1;33m\u001b[0m\u001b[0m\n\u001b[0;32m    654\u001b[0m         \u001b[1;31m# Send the request\u001b[0m\u001b[1;33m\u001b[0m\u001b[1;33m\u001b[0m\u001b[1;33m\u001b[0m\u001b[0m\n\u001b[1;32m--> 655\u001b[1;33m         \u001b[0mr\u001b[0m \u001b[1;33m=\u001b[0m \u001b[0madapter\u001b[0m\u001b[1;33m.\u001b[0m\u001b[0msend\u001b[0m\u001b[1;33m(\u001b[0m\u001b[0mrequest\u001b[0m\u001b[1;33m,\u001b[0m \u001b[1;33m**\u001b[0m\u001b[0mkwargs\u001b[0m\u001b[1;33m)\u001b[0m\u001b[1;33m\u001b[0m\u001b[1;33m\u001b[0m\u001b[0m\n\u001b[0m\u001b[0;32m    656\u001b[0m \u001b[1;33m\u001b[0m\u001b[0m\n\u001b[0;32m    657\u001b[0m         \u001b[1;31m# Total elapsed time of the request (approximately)\u001b[0m\u001b[1;33m\u001b[0m\u001b[1;33m\u001b[0m\u001b[1;33m\u001b[0m\u001b[0m\n",
      "\u001b[1;32m~\\anaconda3\\envs\\env\\lib\\site-packages\\requests\\adapters.py\u001b[0m in \u001b[0;36msend\u001b[1;34m(self, request, stream, timeout, verify, cert, proxies)\u001b[0m\n\u001b[0;32m    512\u001b[0m             \u001b[1;32mif\u001b[0m \u001b[0misinstance\u001b[0m\u001b[1;33m(\u001b[0m\u001b[0me\u001b[0m\u001b[1;33m.\u001b[0m\u001b[0mreason\u001b[0m\u001b[1;33m,\u001b[0m \u001b[0m_SSLError\u001b[0m\u001b[1;33m)\u001b[0m\u001b[1;33m:\u001b[0m\u001b[1;33m\u001b[0m\u001b[1;33m\u001b[0m\u001b[0m\n\u001b[0;32m    513\u001b[0m                 \u001b[1;31m# This branch is for urllib3 v1.22 and later.\u001b[0m\u001b[1;33m\u001b[0m\u001b[1;33m\u001b[0m\u001b[1;33m\u001b[0m\u001b[0m\n\u001b[1;32m--> 514\u001b[1;33m                 \u001b[1;32mraise\u001b[0m \u001b[0mSSLError\u001b[0m\u001b[1;33m(\u001b[0m\u001b[0me\u001b[0m\u001b[1;33m,\u001b[0m \u001b[0mrequest\u001b[0m\u001b[1;33m=\u001b[0m\u001b[0mrequest\u001b[0m\u001b[1;33m)\u001b[0m\u001b[1;33m\u001b[0m\u001b[1;33m\u001b[0m\u001b[0m\n\u001b[0m\u001b[0;32m    515\u001b[0m \u001b[1;33m\u001b[0m\u001b[0m\n\u001b[0;32m    516\u001b[0m             \u001b[1;32mraise\u001b[0m \u001b[0mConnectionError\u001b[0m\u001b[1;33m(\u001b[0m\u001b[0me\u001b[0m\u001b[1;33m,\u001b[0m \u001b[0mrequest\u001b[0m\u001b[1;33m=\u001b[0m\u001b[0mrequest\u001b[0m\u001b[1;33m)\u001b[0m\u001b[1;33m\u001b[0m\u001b[1;33m\u001b[0m\u001b[0m\n",
      "\u001b[1;31mSSLError\u001b[0m: HTTPSConnectionPool(host='dados.anvisa.gov.br', port=443): Max retries exceeded with url: //dados//TA_PRODUTO_SAUDE_SITE.csv (Caused by SSLError(SSLCertVerificationError(1, '[SSL: CERTIFICATE_VERIFY_FAILED] certificate verify failed: unable to get local issuer certificate (_ssl.c:1123)')))"
     ]
    }
   ],
   "source": [
    "# URL FROM ANVISA'S WEBSITE -- \n",
    "\n",
    "url = 'https://dados.anvisa.gov.br//dados//TA_PRODUTO_SAUDE_SITE.csv'\n",
    "\n",
    "# Formata a url inserindo os inputs\n",
    "#search_url = url.format(\n",
    "#    FILE_REQUIRED = 'TA_PRODUTO_SAUDE_SITE.csv'\n",
    "#)\n",
    "\n",
    "#capturamos a resposta que a URL nos trás\n",
    "response = get(url)\n",
    "response"
   ]
  },
  {
   "cell_type": "code",
   "execution_count": null,
   "id": "4f66ce2e",
   "metadata": {},
   "outputs": [],
   "source": []
  },
  {
   "cell_type": "code",
   "execution_count": 47,
   "id": "395e69ae",
   "metadata": {
    "code_folding": []
   },
   "outputs": [
    {
     "ename": "WebDriverException",
     "evalue": "Message: 'chromedriver.exe' executable needs to be in PATH. Please see https://sites.google.com/a/chromium.org/chromedriver/home\n",
     "output_type": "error",
     "traceback": [
      "\u001b[1;31m---------------------------------------------------------------------------\u001b[0m",
      "\u001b[1;31mFileNotFoundError\u001b[0m                         Traceback (most recent call last)",
      "\u001b[1;32m~\\anaconda3\\envs\\env\\lib\\site-packages\\selenium\\webdriver\\common\\service.py\u001b[0m in \u001b[0;36mstart\u001b[1;34m(self)\u001b[0m\n\u001b[0;32m     71\u001b[0m             \u001b[0mcmd\u001b[0m\u001b[1;33m.\u001b[0m\u001b[0mextend\u001b[0m\u001b[1;33m(\u001b[0m\u001b[0mself\u001b[0m\u001b[1;33m.\u001b[0m\u001b[0mcommand_line_args\u001b[0m\u001b[1;33m(\u001b[0m\u001b[1;33m)\u001b[0m\u001b[1;33m)\u001b[0m\u001b[1;33m\u001b[0m\u001b[1;33m\u001b[0m\u001b[0m\n\u001b[1;32m---> 72\u001b[1;33m             self.process = subprocess.Popen(cmd, env=self.env,\n\u001b[0m\u001b[0;32m     73\u001b[0m                                             \u001b[0mclose_fds\u001b[0m\u001b[1;33m=\u001b[0m\u001b[0mplatform\u001b[0m\u001b[1;33m.\u001b[0m\u001b[0msystem\u001b[0m\u001b[1;33m(\u001b[0m\u001b[1;33m)\u001b[0m \u001b[1;33m!=\u001b[0m \u001b[1;34m'Windows'\u001b[0m\u001b[1;33m,\u001b[0m\u001b[1;33m\u001b[0m\u001b[1;33m\u001b[0m\u001b[0m\n",
      "\u001b[1;32m~\\anaconda3\\envs\\env\\lib\\subprocess.py\u001b[0m in \u001b[0;36m__init__\u001b[1;34m(self, args, bufsize, executable, stdin, stdout, stderr, preexec_fn, close_fds, shell, cwd, env, universal_newlines, startupinfo, creationflags, restore_signals, start_new_session, pass_fds, user, group, extra_groups, encoding, errors, text, umask)\u001b[0m\n\u001b[0;32m    950\u001b[0m \u001b[1;33m\u001b[0m\u001b[0m\n\u001b[1;32m--> 951\u001b[1;33m             self._execute_child(args, executable, preexec_fn, close_fds,\n\u001b[0m\u001b[0;32m    952\u001b[0m                                 \u001b[0mpass_fds\u001b[0m\u001b[1;33m,\u001b[0m \u001b[0mcwd\u001b[0m\u001b[1;33m,\u001b[0m \u001b[0menv\u001b[0m\u001b[1;33m,\u001b[0m\u001b[1;33m\u001b[0m\u001b[1;33m\u001b[0m\u001b[0m\n",
      "\u001b[1;32m~\\anaconda3\\envs\\env\\lib\\subprocess.py\u001b[0m in \u001b[0;36m_execute_child\u001b[1;34m(self, args, executable, preexec_fn, close_fds, pass_fds, cwd, env, startupinfo, creationflags, shell, p2cread, p2cwrite, c2pread, c2pwrite, errread, errwrite, unused_restore_signals, unused_gid, unused_gids, unused_uid, unused_umask, unused_start_new_session)\u001b[0m\n\u001b[0;32m   1419\u001b[0m             \u001b[1;32mtry\u001b[0m\u001b[1;33m:\u001b[0m\u001b[1;33m\u001b[0m\u001b[1;33m\u001b[0m\u001b[0m\n\u001b[1;32m-> 1420\u001b[1;33m                 hp, ht, pid, tid = _winapi.CreateProcess(executable, args,\n\u001b[0m\u001b[0;32m   1421\u001b[0m                                          \u001b[1;31m# no special security\u001b[0m\u001b[1;33m\u001b[0m\u001b[1;33m\u001b[0m\u001b[1;33m\u001b[0m\u001b[0m\n",
      "\u001b[1;31mFileNotFoundError\u001b[0m: [WinError 2] O sistema não pode encontrar o arquivo especificado",
      "\nDuring handling of the above exception, another exception occurred:\n",
      "\u001b[1;31mWebDriverException\u001b[0m                        Traceback (most recent call last)",
      "\u001b[1;32m<ipython-input-47-4f978375090e>\u001b[0m in \u001b[0;36m<module>\u001b[1;34m\u001b[0m\n\u001b[0;32m     13\u001b[0m \u001b[1;33m\u001b[0m\u001b[0m\n\u001b[0;32m     14\u001b[0m \u001b[1;31m# VARIABLE WHICH OPEN THE BROWSER AND ITS DEFINED OPTIONS\u001b[0m\u001b[1;33m\u001b[0m\u001b[1;33m\u001b[0m\u001b[1;33m\u001b[0m\u001b[0m\n\u001b[1;32m---> 15\u001b[1;33m \u001b[0mdriver\u001b[0m \u001b[1;33m=\u001b[0m \u001b[0mwebdriver\u001b[0m\u001b[1;33m.\u001b[0m\u001b[0mChrome\u001b[0m\u001b[1;33m(\u001b[0m\u001b[0mpath\u001b[0m\u001b[1;33m,\u001b[0m \u001b[0mchrome_options\u001b[0m \u001b[1;33m=\u001b[0m \u001b[0moptions\u001b[0m\u001b[1;33m)\u001b[0m\u001b[1;33m\u001b[0m\u001b[1;33m\u001b[0m\u001b[0m\n\u001b[0m",
      "\u001b[1;32m~\\anaconda3\\envs\\env\\lib\\site-packages\\selenium\\webdriver\\chrome\\webdriver.py\u001b[0m in \u001b[0;36m__init__\u001b[1;34m(self, executable_path, port, options, service_args, desired_capabilities, service_log_path, chrome_options, keep_alive)\u001b[0m\n\u001b[0;32m     71\u001b[0m             \u001b[0mservice_args\u001b[0m\u001b[1;33m=\u001b[0m\u001b[0mservice_args\u001b[0m\u001b[1;33m,\u001b[0m\u001b[1;33m\u001b[0m\u001b[1;33m\u001b[0m\u001b[0m\n\u001b[0;32m     72\u001b[0m             log_path=service_log_path)\n\u001b[1;32m---> 73\u001b[1;33m         \u001b[0mself\u001b[0m\u001b[1;33m.\u001b[0m\u001b[0mservice\u001b[0m\u001b[1;33m.\u001b[0m\u001b[0mstart\u001b[0m\u001b[1;33m(\u001b[0m\u001b[1;33m)\u001b[0m\u001b[1;33m\u001b[0m\u001b[1;33m\u001b[0m\u001b[0m\n\u001b[0m\u001b[0;32m     74\u001b[0m \u001b[1;33m\u001b[0m\u001b[0m\n\u001b[0;32m     75\u001b[0m         \u001b[1;32mtry\u001b[0m\u001b[1;33m:\u001b[0m\u001b[1;33m\u001b[0m\u001b[1;33m\u001b[0m\u001b[0m\n",
      "\u001b[1;32m~\\anaconda3\\envs\\env\\lib\\site-packages\\selenium\\webdriver\\common\\service.py\u001b[0m in \u001b[0;36mstart\u001b[1;34m(self)\u001b[0m\n\u001b[0;32m     79\u001b[0m         \u001b[1;32mexcept\u001b[0m \u001b[0mOSError\u001b[0m \u001b[1;32mas\u001b[0m \u001b[0merr\u001b[0m\u001b[1;33m:\u001b[0m\u001b[1;33m\u001b[0m\u001b[1;33m\u001b[0m\u001b[0m\n\u001b[0;32m     80\u001b[0m             \u001b[1;32mif\u001b[0m \u001b[0merr\u001b[0m\u001b[1;33m.\u001b[0m\u001b[0merrno\u001b[0m \u001b[1;33m==\u001b[0m \u001b[0merrno\u001b[0m\u001b[1;33m.\u001b[0m\u001b[0mENOENT\u001b[0m\u001b[1;33m:\u001b[0m\u001b[1;33m\u001b[0m\u001b[1;33m\u001b[0m\u001b[0m\n\u001b[1;32m---> 81\u001b[1;33m                 raise WebDriverException(\n\u001b[0m\u001b[0;32m     82\u001b[0m                     \"'%s' executable needs to be in PATH. %s\" % (\n\u001b[0;32m     83\u001b[0m                         os.path.basename(self.path), self.start_error_message)\n",
      "\u001b[1;31mWebDriverException\u001b[0m: Message: 'chromedriver.exe' executable needs to be in PATH. Please see https://sites.google.com/a/chromium.org/chromedriver/home\n"
     ]
    }
   ],
   "source": [
    "# SELENIUM -- OPEN THE BROWSER\n",
    "\n",
    "# VARIABLE WHICH CALL GOOGLE CHROME'S BROWSER THROUGH WEBDRIVER --SELENIUM\n",
    "options = webdriver.ChromeOptions()\n",
    "\n",
    "#open the page in main plane -- options to open in second plane (closed -- hidden)\n",
    "options.add_argument(\"--start-maximized\")\n",
    "\n",
    "# options.headless = True #COMMAND HIDDEN\n",
    "\n",
    "#VARIABLE WHICH OPEN CHROME'S EXECUTABLE\n",
    "path = './chromedriver.exe'\n",
    "\n",
    "# VARIABLE WHICH OPEN THE BROWSER AND ITS DEFINED OPTIONS\n",
    "driver = webdriver.Chrome(path, chrome_options = options)"
   ]
  },
  {
   "cell_type": "code",
   "execution_count": 49,
   "id": "f9f906ea",
   "metadata": {
    "code_folding": []
   },
   "outputs": [
    {
     "ename": "NameError",
     "evalue": "name 'driver' is not defined",
     "output_type": "error",
     "traceback": [
      "\u001b[1;31m---------------------------------------------------------------------------\u001b[0m",
      "\u001b[1;31mNameError\u001b[0m                                 Traceback (most recent call last)",
      "\u001b[1;32m<ipython-input-49-7c4af7e051c4>\u001b[0m in \u001b[0;36m<module>\u001b[1;34m\u001b[0m\n\u001b[0;32m      1\u001b[0m \u001b[1;31m# OPEN THE WEBSITE AND WAIT FOR 10 SEC\u001b[0m\u001b[1;33m\u001b[0m\u001b[1;33m\u001b[0m\u001b[1;33m\u001b[0m\u001b[0m\n\u001b[1;32m----> 2\u001b[1;33m \u001b[0mdriver\u001b[0m\u001b[1;33m.\u001b[0m\u001b[0mget\u001b[0m\u001b[1;33m(\u001b[0m\u001b[0murl\u001b[0m\u001b[1;33m)\u001b[0m\u001b[1;33m\u001b[0m\u001b[1;33m\u001b[0m\u001b[0m\n\u001b[0m\u001b[0;32m      3\u001b[0m \u001b[0mtime\u001b[0m\u001b[1;33m.\u001b[0m\u001b[0msleep\u001b[0m\u001b[1;33m(\u001b[0m\u001b[1;36m10\u001b[0m\u001b[1;33m)\u001b[0m \u001b[1;31m# WAIT FOR 10 SEC\u001b[0m\u001b[1;33m\u001b[0m\u001b[1;33m\u001b[0m\u001b[0m\n",
      "\u001b[1;31mNameError\u001b[0m: name 'driver' is not defined"
     ]
    }
   ],
   "source": [
    "# OPEN THE WEBSITE AND WAIT FOR 10 SEC\n",
    "driver.get(url)\n",
    "time.sleep(10) # WAIT FOR 10 SEC"
   ]
  },
  {
   "cell_type": "code",
   "execution_count": null,
   "id": "2820f9b0",
   "metadata": {},
   "outputs": [],
   "source": []
  },
  {
   "cell_type": "code",
   "execution_count": null,
   "id": "280286d6",
   "metadata": {},
   "outputs": [],
   "source": []
  },
  {
   "cell_type": "code",
   "execution_count": null,
   "id": "f3387beb",
   "metadata": {},
   "outputs": [],
   "source": []
  },
  {
   "cell_type": "code",
   "execution_count": null,
   "id": "5722c489",
   "metadata": {},
   "outputs": [],
   "source": []
  },
  {
   "cell_type": "code",
   "execution_count": null,
   "id": "655e470c",
   "metadata": {},
   "outputs": [],
   "source": []
  },
  {
   "cell_type": "code",
   "execution_count": null,
   "id": "df0da9f0",
   "metadata": {},
   "outputs": [],
   "source": [
    "# Determina url para requisição\n",
    "url = 'https://www.vivareal.com.br/aluguel/sp/sao-paulo/zona-oeste/pinheiros/apartamento_residencial/?pagina={n_pagina}'\n",
    "# Faz requisição, passando número da pagina como 1\n",
    "doc = requests.get(url.format(n_pagina=1))"
   ]
  },
  {
   "cell_type": "code",
   "execution_count": null,
   "id": "72dbbfa0",
   "metadata": {},
   "outputs": [],
   "source": [
    "# Dá uma olhada no conteúdo de doc\n",
    "doc.content[:500]"
   ]
  },
  {
   "cell_type": "code",
   "execution_count": null,
   "id": "fd7ae598",
   "metadata": {},
   "outputs": [],
   "source": [
    "# Utiliza o BeautifulSoup para interpretar o conteúdo de doc como HTML\n",
    "parsed_doc = BeautifulSoup(doc.content, 'html.parser')"
   ]
  },
  {
   "cell_type": "code",
   "execution_count": null,
   "id": "fc5b1de9",
   "metadata": {},
   "outputs": [],
   "source": [
    "# Aparentemente, nenhuma grande mudança. Mas...\n",
    "str(parsed_doc)[:500]"
   ]
  },
  {
   "cell_type": "code",
   "execution_count": null,
   "id": "00521ea6",
   "metadata": {},
   "outputs": [],
   "source": [
    "# Encontra todas as divs cuja classe é js-card-selector e traz como lista\n",
    "cards = parsed_doc.find_all('div', class_='js-card-selector')\n",
    "# A quantidade de cartões na página é igual ao tamanho da lista!\n",
    "len(cards)"
   ]
  }
 ],
 "metadata": {
  "kernelspec": {
   "display_name": "Python 3",
   "language": "python",
   "name": "python3"
  },
  "language_info": {
   "codemirror_mode": {
    "name": "ipython",
    "version": 3
   },
   "file_extension": ".py",
   "mimetype": "text/x-python",
   "name": "python",
   "nbconvert_exporter": "python",
   "pygments_lexer": "ipython3",
   "version": "3.9.4"
  }
 },
 "nbformat": 4,
 "nbformat_minor": 5
}
